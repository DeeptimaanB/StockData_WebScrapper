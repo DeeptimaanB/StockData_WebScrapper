{
 "cells": [
  {
   "cell_type": "code",
   "execution_count": 26,
   "metadata": {},
   "outputs": [],
   "source": [
    "import datetime\n",
    "from time import sleep\n",
    "from selenium import webdriver\n",
    "from selenium.webdriver.common.keys import Keys\n",
    "from selenium.common.exceptions import NoSuchElementException\n"
   ]
  },
  {
   "cell_type": "code",
   "execution_count": 27,
   "metadata": {},
   "outputs": [
    {
     "name": "stderr",
     "output_type": "stream",
     "text": [
      "C:\\Users\\deept\\AppData\\Local\\Temp/ipykernel_26488/1735863218.py:1: DeprecationWarning: executable_path has been deprecated, please pass in a Service object\n",
      "  driver = webdriver.Chrome(r'D:\\\\Program Files\\\\chromedriver\\\\chromedriver.exe')\n"
     ]
    }
   ],
   "source": [
    "driver = webdriver.Chrome(r'D:\\\\Program Files\\\\chromedriver\\\\chromedriver.exe')"
   ]
  },
  {
   "cell_type": "code",
   "execution_count": 28,
   "metadata": {},
   "outputs": [],
   "source": [
    "#driver = webdriver.Edge(r'D:\\\\Program Files\\\\msedgedriver\\\\msedgedriver.exe')\n"
   ]
  },
  {
   "cell_type": "code",
   "execution_count": 29,
   "metadata": {},
   "outputs": [],
   "source": [
    "driver.maximize_window()"
   ]
  },
  {
   "cell_type": "code",
   "execution_count": 30,
   "metadata": {},
   "outputs": [],
   "source": [
    "driver.get(\"https://www.moneycontrol.com/\")\n",
    "sleep(10)\n"
   ]
  },
  {
   "cell_type": "code",
   "execution_count": 31,
   "metadata": {},
   "outputs": [
    {
     "name": "stderr",
     "output_type": "stream",
     "text": [
      "C:\\Users\\deept\\AppData\\Local\\Temp/ipykernel_26488/1282243920.py:1: DeprecationWarning: find_element_by_* commands are deprecated. Please use find_element() instead\n",
      "  search_input = driver.find_element_by_xpath(\n"
     ]
    }
   ],
   "source": [
    "search_input = driver.find_element_by_xpath(\n",
    "    '//input[@name=\"search_str\"]')\n",
    "search_input.send_keys(\"BANKBARODA\")\n",
    "search_input.send_keys(Keys.RETURN)\n"
   ]
  },
  {
   "cell_type": "code",
   "execution_count": 32,
   "metadata": {},
   "outputs": [
    {
     "name": "stderr",
     "output_type": "stream",
     "text": [
      "C:\\Users\\deept\\AppData\\Local\\Temp/ipykernel_26488/1422361365.py:1: DeprecationWarning: find_element_by_* commands are deprecated. Please use find_element() instead\n",
      "  commentbutton = driver.find_element_by_xpath(\n"
     ]
    },
    {
     "data": {
      "text/plain": [
       "'https://mmb.moneycontrol.com/forum-topics/stocks/bankbaroda-261.html'"
      ]
     },
     "execution_count": 32,
     "metadata": {},
     "output_type": "execute_result"
    }
   ],
   "source": [
    "commentbutton = driver.find_element_by_xpath(\n",
    "    '//a[contains(@href, \"forum-topics/stocks/\") and @class=\"seemore\"]').get_attribute('href')\n",
    "commentbutton\n"
   ]
  },
  {
   "cell_type": "code",
   "execution_count": 33,
   "metadata": {},
   "outputs": [],
   "source": [
    "driver.get(commentbutton)\n",
    "ct = datetime.datetime.now()\n"
   ]
  },
  {
   "cell_type": "code",
   "execution_count": 34,
   "metadata": {},
   "outputs": [],
   "source": [
    "def scroll_down(self):\n",
    "    \"\"\"A method for scrolling the page.\"\"\"\n",
    "\n",
    "    # Get scroll height.\n",
    "    last_height = self.driver.execute_script(\"return document.body.scrollHeight\")\n",
    "\n",
    "    while True:\n",
    "\n",
    "        # Scroll down to the bottom.\n",
    "        self.driver.execute_script(\"window.scrollTo(0, document.body.scrollHeight);\")\n",
    "\n",
    "        # Wait to load the page.\n",
    "        sleep(2)\n",
    "\n",
    "        # Calculate new scroll height and compare with last scroll height.\n",
    "        new_height = self.driver.execute_script(\"return document.body.scrollHeight\")\n",
    "\n",
    "        if new_height == last_height:\n",
    "\n",
    "            break\n",
    "\n",
    "        last_height = new_height\n"
   ]
  },
  {
   "cell_type": "code",
   "execution_count": 35,
   "metadata": {},
   "outputs": [],
   "source": [
    "scroll_down"
   ]
  },
  {
   "cell_type": "code",
   "execution_count": 36,
   "metadata": {},
   "outputs": [
    {
     "name": "stderr",
     "output_type": "stream",
     "text": [
      "C:\\Users\\deept\\AppData\\Local\\Temp/ipykernel_26488/764201624.py:1: DeprecationWarning: find_elements_by_* commands are deprecated. Please use find_elements() instead\n",
      "  cards = driver.find_elements_by_xpath(\n"
     ]
    }
   ],
   "source": [
    "cards = driver.find_elements_by_xpath(\n",
    "    '//li[@class=\"pstdl\"]')\n"
   ]
  },
  {
   "cell_type": "code",
   "execution_count": 37,
   "metadata": {},
   "outputs": [
    {
     "data": {
      "text/plain": [
       "20"
      ]
     },
     "execution_count": 37,
     "metadata": {},
     "output_type": "execute_result"
    }
   ],
   "source": [
    "len(cards)"
   ]
  },
  {
   "cell_type": "code",
   "execution_count": 38,
   "metadata": {},
   "outputs": [
    {
     "data": {
      "text/plain": [
       "'The impact of Demand and supply creating ruckus in buying sector to know the target and SL for more info v.gd/GjmAyK'"
      ]
     },
     "execution_count": 38,
     "metadata": {},
     "output_type": "execute_result"
    }
   ],
   "source": [
    "card = cards[3]\n",
    "card.find_element_by_xpath(\n",
    "    './/p[@class=\"txt16gry\"]').text\n",
    "\n"
   ]
  },
  {
   "cell_type": "code",
   "execution_count": 39,
   "metadata": {},
   "outputs": [
    {
     "data": {
      "text/plain": [
       "'10.48 PM Jan 3rd'"
      ]
     },
     "execution_count": 39,
     "metadata": {},
     "output_type": "execute_result"
    }
   ],
   "source": [
    "card.find_element_by_xpath(\n",
    "    './/div[@class=\"link13gry\"]').text"
   ]
  },
  {
   "cell_type": "code",
   "execution_count": 40,
   "metadata": {},
   "outputs": [
    {
     "data": {
      "text/plain": [
       "'SGT555'"
      ]
     },
     "execution_count": 40,
     "metadata": {},
     "output_type": "execute_result"
    }
   ],
   "source": [
    "card.find_element_by_xpath(\n",
    "    './/a[@class=\"txtnm14\"]').text\n"
   ]
  },
  {
   "cell_type": "code",
   "execution_count": 41,
   "metadata": {},
   "outputs": [],
   "source": [
    "def get_comment_data(card):\n",
    "    try:\n",
    "        username = card.find_element_by_xpath(\n",
    "            './/a[@class=\"txtnm14\"]').text\n",
    "    except NoSuchElementException:\n",
    "        username = \"NULL\"\n",
    "    \n",
    "    try:\n",
    "        content = card.find_element_by_xpath(\n",
    "            './/p[@class=\"txt16gry\"]').text\n",
    "    except NoSuchElementException:\n",
    "        content = \"NULL\"\n",
    "    try:\n",
    "        time = card.find_element_by_xpath(\n",
    "            './/div[@class=\"link13gry\"]').text\n",
    "    except NoSuchElementException:\n",
    "        time = \"NULL\"\n",
    "    \n",
    "    comment_data = (username, content, time)\n",
    "    return comment_data\n"
   ]
  },
  {
   "cell_type": "code",
   "execution_count": 42,
   "metadata": {},
   "outputs": [],
   "source": [
    "data = []"
   ]
  },
  {
   "cell_type": "code",
   "execution_count": 43,
   "metadata": {},
   "outputs": [],
   "source": [
    "for card in cards:\n",
    "    comment = get_comment_data(card)\n",
    "    data.append(comment)\n",
    "    \n"
   ]
  },
  {
   "cell_type": "code",
   "execution_count": 44,
   "metadata": {},
   "outputs": [],
   "source": [
    "import csv\n",
    "date = str(ct)\n",
    "date = \"_\".join(date.split())\n",
    "date = \"_\".join(date.split(\":\"))\n",
    "with open(\"results_\"+date+\".csv\", 'w', newline='', encoding='utf-8') as f:\n",
    "    header = ['UserName', 'Comment', 'Timestamp']\n",
    "    writer = csv.writer(f)\n",
    "    writer.writerow(header)\n",
    "    writer.writerows(data)\n"
   ]
  }
 ],
 "metadata": {
  "interpreter": {
   "hash": "13cf41135cb46d34cee2e3391c2114ac8d9b39c0426f0bab41c5727c2b847962"
  },
  "kernelspec": {
   "display_name": "Python 3.9.6 64-bit",
   "language": "python",
   "name": "python3"
  },
  "language_info": {
   "codemirror_mode": {
    "name": "ipython",
    "version": 3
   },
   "file_extension": ".py",
   "mimetype": "text/x-python",
   "name": "python",
   "nbconvert_exporter": "python",
   "pygments_lexer": "ipython3",
   "version": "3.10.1"
  },
  "orig_nbformat": 4
 },
 "nbformat": 4,
 "nbformat_minor": 2
}
